{
 "cells": [
  {
   "cell_type": "code",
   "execution_count": 1,
   "id": "5a8067f4",
   "metadata": {},
   "outputs": [],
   "source": [
    "import numpy as np\n",
    "import matplotlib.pyplot as plt\n",
    "from time import perf_counter\n",
    "\n",
    "plt.rcParams.update({'font.family': 'cmr10', 'font.size': 12})\n",
    "plt.rcParams['axes.unicode_minus'] = False\n",
    "plt.rcParams['axes.labelsize'] = 12\n",
    "plt.rcParams['figure.dpi'] = 100\n",
    "plt.rcParams['mathtext.fontset'] = 'cm'\n",
    "plt.rcParams['mathtext.rm'] = 'serif'\n",
    "plt.rcParams['xtick.direction'] = 'in'\n",
    "plt.rcParams['ytick.direction'] = 'in'\n",
    "plt.rcParams['xtick.top'] = True\n",
    "plt.rcParams['ytick.right'] = True\n",
    "plt.rcParams['axes.formatter.use_mathtext'] = True\n",
    "\n",
    "%matplotlib inline"
   ]
  },
  {
   "cell_type": "code",
   "execution_count": 2,
   "id": "cc15b047",
   "metadata": {},
   "outputs": [],
   "source": [
    "# Define a few useful functions \n",
    "\n",
    "def preview_img(index, data):\n",
    "    \"\"\"\n",
    "    index: int, index of the image to display\n",
    "    \n",
    "    data: array, dataset to diplay an image from\n",
    "    \"\"\"\n",
    "    if index > data.shape[0]:\n",
    "        print(f\"The index you choose must be less than {data.shape[0]}\")\n",
    "    else:\n",
    "        fig, ax = plt.subplots(1,1, figsize=(4,4))\n",
    "        ax.matshow(data[index,...], cmap='gray')\n",
    "        ax.set_axis_off()\n",
    "        \n",
    "def model_accuracy(actual, predicted):\n",
    "    correct = 0\n",
    "    for i in range(len(actual)):\n",
    "        if actual[i] == predicted[i]:\n",
    "            correct += 1\n",
    "    return correct / float(len(actual)) * 100"
   ]
  },
  {
   "cell_type": "code",
   "execution_count": 3,
   "id": "f6c53e5c",
   "metadata": {},
   "outputs": [],
   "source": [
    "# If you have not already installed TensorFlow and Keras, un-comment and run the following lines\n",
    "\n",
    "#! pip install tensorflow\n",
    "# If you have a Mac and the above line didn't work, try the one below\n",
    "#! pip install tensorflow-macos\n",
    "\n",
    "#! pip install keras"
   ]
  },
  {
   "cell_type": "markdown",
   "id": "2d899920",
   "metadata": {},
   "source": [
    "# Exploring and preprocessing our data"
   ]
  },
  {
   "cell_type": "code",
   "execution_count": 4,
   "id": "7a3fa219",
   "metadata": {},
   "outputs": [
    {
     "name": "stdout",
     "output_type": "stream",
     "text": [
      "Init Plugin\n",
      "Init Graph Optimizer\n",
      "Init Kernel\n",
      "(60000, 28, 28) (10000, 28, 28)\n",
      "(60000,) (10000,)\n"
     ]
    }
   ],
   "source": [
    "# start by loading in data\n",
    "\n",
    "from tensorflow.keras.datasets import mnist\n",
    "\n",
    "(training_data, training_labels), (testing_data, testing_labels) = mnist.load_data()\n",
    "\n",
    "print(training_data.shape, testing_data.shape)\n",
    "print(training_labels.shape, testing_labels.shape)"
   ]
  },
  {
   "cell_type": "markdown",
   "id": "fa232205",
   "metadata": {},
   "source": [
    "By default, the label associated with each image is the value of the digit shown in that image. Since we're only interested in whether or not the handwritten digit is even or odd, we want to adjust the labels so that every even digit is labeled by a zero, and every odd digit is labeled by a one."
   ]
  },
  {
   "cell_type": "code",
   "execution_count": 5,
   "id": "d91d7569",
   "metadata": {},
   "outputs": [],
   "source": [
    "training_labels[training_labels%2==0] = 0\n",
    "training_labels[training_labels%2==1] = 1\n",
    "testing_labels[testing_labels%2==0] = 0\n",
    "testing_labels[testing_labels%2==1] = 1"
   ]
  },
  {
   "cell_type": "markdown",
   "id": "c70fa68e",
   "metadata": {},
   "source": [
    "With the labels sorted, let's make sure that the data matches what we expect. The training (testing) data contains 60,000 (10,000) 28x28 greyscale images of handwritten digits. Pick a few numbers between 0 and 59,999 and plug them into the <tt>preview_img</tt> function below."
   ]
  },
  {
   "cell_type": "code",
   "execution_count": 6,
   "id": "2c89e866",
   "metadata": {},
   "outputs": [
    {
     "data": {
      "image/png": "[encoded data removed]",
      "text/plain": [
       "<Figure size 288x288 with 1 Axes>"
      ]
     },
     "metadata": {
      "needs_background": "light"
     },
     "output_type": "display_data"
    }
   ],
   "source": [
    "preview_img(12345, training_data)"
   ]
  },
  {
   "cell_type": "markdown",
   "id": "04a04663",
   "metadata": {},
   "source": [
    "For the network we'll be building today, we'll want to reformat each image as a column vector, and then stack all of those column vectors side-by-side into a 'matrix' that looks like $$\\begin{bmatrix} | & | & | & \\ldots & | \\\\ x^{[0]}_{i} & x^{[1]}_{i} & x^{[2]}_{i} & \\ldots & x^{[N]}_{i} \\\\ | & | & | & \\ldots & | \\end{bmatrix}$$ where $x^{[k]}_{i}$ is the intensity of the $i$th pixel in the $k$th image, and $N$ is the total number of images we have (60,000 for the training set, 10,000 for the testing set)\n",
    "\n",
    "There are network that allow us to train directly on images (Convolutional Neural Networks), but we won't be discussing those today."
   ]
  },
  {
   "cell_type": "code",
   "execution_count": 7,
   "id": "5370ac58",
   "metadata": {},
   "outputs": [],
   "source": [
    "training_data = training_data.reshape(-1, training_data.shape[1]*training_data.shape[2]).T\n",
    "testing_data = testing_data.reshape(-1, testing_data.shape[1]*testing_data.shape[2]).T\n",
    "training_labels = training_labels.reshape(1,-1)\n",
    "testing_labels = testing_labels.reshape(1,-1)"
   ]
  },
  {
   "cell_type": "markdown",
   "id": "d73040fc",
   "metadata": {},
   "source": [
    "# Defining the Model Architecture\n",
    "\n",
    "We can think of our neural network in the following way:\n",
    "\n",
    "![](Images/black_box_nn.png)\n",
    "\n",
    "where the inner workings are quite literally (for now, at least) a black box. \n",
    "\n",
    "Inside this model, there are a number of $\\textit{layers}$, corresponding to either our input data, the model's output, or some learned representation along the way. We say a layer is \"hidden\" if it isn't the model's input or output, since we typically don't access any of the information in those layers. If it's helpful, you can think of these layers as being column vectors. Our updated picture now looks like:\n",
    "\n",
    "![](Images/nn_arch.png)\n",
    "\n",
    "Each \\emph{layer} consists of a certain number of $\\textit{nodes}$. For our example, the number of nodes in the input layer will be the total number of pixels in the input image. We'll only have a single node in the output layer, since we want our model to learn whether a given input corresponds to one of two classes. \n",
    "\n",
    "The network we'll build today is called a $\\textbf{Dense}$ network since every node in the $k$th layer depends on every node in the $k-1$th layer. Diagramatically, this looks like:\n",
    "\n",
    "![](Images/dense_layout.png)\n",
    "\n",
    "where each circle represents a node in a given layer, and each arrow indicates how much the node in one layer depends on the value of the node in the previous layer.\n",
    "\n",
    "Mathematically, the value of the $i$th node in the $k$th layer is $$z^{[k]}_{i} = \\displaystyle\\sum_{j=1}^{N_{k-1}} w_{ij}z^{[k-1]}_{j} + b_{i}$$ where $w_{ij}$ is a matrix of weights connecting the $i$th node in the $k$th layer to all of the nodes in the $k-1$th layer, and $b_{i}$ is bias parameter that can also be learned. We can then do this operation for every node $i$ in layer $k$ by stacking them in a column. \n",
    "\n",
    "$$\n",
    "\\begin{bmatrix} x_{0}^{[k]} \\\\ x_{1}^{[k]} \\\\ \\vdots \\\\ x_{N_{k}}^{[k]}\\end{bmatrix} = \n",
    "\\begin{bmatrix} w_{00} & w_{01} & \\ldots & w_{0 N_{k-1}} \\\\ w_{10} & w_{11}  & \\ldots &  w_{1 N_{k-1}} \\\\ \\vdots & \\vdots & \\ddots & \\vdots \\\\ w_{N_{k} 0} & w_{N_{k} 1} & \\ldots &  w_{N_{k} N_{k-1}} \\end{bmatrix}\n",
    "\\begin{bmatrix} x_{0}^{[k-1]} \\\\ x_{1}^{[k-1]} \\\\ \\vdots \\\\ x_{N_{k-1}}^{[k-1]}\\end{bmatrix} + \n",
    "\\begin{bmatrix} b_{0}^{[k]} \\\\ b_{1}^{[k]} \\\\ \\vdots \\\\ b_{N_{k}}^{[k]}\\end{bmatrix}\n",
    "$$\n",
    "\n",
    "To summarize, the architecture of the network is determined by the the number of layers we use, and the number of nodes in each layer. The number of nodes in the input and output layers will be determined by our data and the task we ultimately want to do, but we are free to set the number of hidden layers as well as the number of nodes in each of those hidden layers. For simplicity, we will create a model with just a single hidden layer."
   ]
  },
  {
   "cell_type": "code",
   "execution_count": 8,
   "id": "a7fb9516",
   "metadata": {},
   "outputs": [],
   "source": [
    "def nodes_per_layer(input_data, true_labels):\n",
    "    \"\"\"\n",
    "    Define the number of nodes in each layer. The number of nodes in the input and output layer are determined \n",
    "    by our input data and true_labels, respectively. But, we are free to set the number of nodes \n",
    "    in the hidden layer.\n",
    "    \"\"\"\n",
    "    \n",
    "    n_inputs = input_data.shape[0]\n",
    "    n_hidden = 5\n",
    "    n_outputs = true_labels.shape[0]\n",
    "    \n",
    "    return (n_inputs, n_hidden, n_outputs)"
   ]
  },
  {
   "cell_type": "code",
   "execution_count": 9,
   "id": "64e88673",
   "metadata": {},
   "outputs": [],
   "source": [
    "def initialize_parameters(n_inputs, n_hidden, n_outputs):\n",
    "    \"\"\"\n",
    "    Initialize all of the parameters used to train the model, given the number of nodes in each layer. \n",
    "    W1 will connect our input layer to the hidden layer, W2 will connect the input layer to the output layer. \n",
    "    To start, we will set both bias vectors to 0.\n",
    "    \"\"\"\n",
    "    W1 = np.random.randn(n_hidden, n_inputs)*0.01\n",
    "    b1 = np.zeros((n_hidden, 1))\n",
    "    W2 = np.random.randn(n_outputs, n_hidden)\n",
    "    b2 = np.zeros((n_outputs, 1))\n",
    "    \n",
    "    parameters = {\"W1\":W1, \"b1\":b1, \"W2\":W2, \"b2\":b2}\n",
    "    \n",
    "    return parameters"
   ]
  },
  {
   "cell_type": "markdown",
   "id": "a4fd15ec",
   "metadata": {},
   "source": [
    "# Forward Propagation\n",
    "\n",
    "With the architecture of our model defined, we can take the first step towards training it. Starting from our input data, we'll carry out the necessary operations to produce the model's prediction for each input's corresponding label. \n",
    "\n",
    "The power of machine learning comes from being able to learn non-linearities present in our data. Our current formulation of connecting layers , however, only allows us to learn linear combinations of our data. To correct this, we then need to pass each layer (with the exception of the input layer) through a nonlinear function, called an $\\textit{activation}$ function. \n",
    "\n",
    "For the hidden layer, we'll be using the <tt>tanh</tt> function, though there are other choices we could have made. For the output layer though, we want to make sure that we choose a function who's domain is $[0,1]$ since the labels we want our model to predict are either 0 or 1. We will use the <tt>sigmoid</tt> activation function for the output layer. Note that if we were interested in a different task, we would want to choose a different activation function for the output layer. "
   ]
  },
  {
   "cell_type": "code",
   "execution_count": 10,
   "id": "126b8e37",
   "metadata": {},
   "outputs": [
    {
     "data": {
      "image/png": "[encoded data removed]",
      "text/plain": [
       "<Figure size 288x288 with 1 Axes>"
      ]
     },
     "metadata": {
      "needs_background": "light"
     },
     "output_type": "display_data"
    }
   ],
   "source": [
    "def sigmoid(x):\n",
    "    s = 1/(1+np.exp(-x))\n",
    "    \n",
    "    return s\n",
    "\n",
    "fig, ax = plt.subplots(1, 1, figsize=(4,4))\n",
    "\n",
    "x = np.linspace(-6, 6, 101)\n",
    "ax.plot(x, sigmoid(x));"
   ]
  },
  {
   "cell_type": "code",
   "execution_count": 11,
   "id": "efa15a24",
   "metadata": {},
   "outputs": [],
   "source": [
    "def forward_prop(input_data, parameters):\n",
    "    W1 = parameters[\"W1\"]\n",
    "    b1 = parameters[\"b1\"]\n",
    "    W2 = parameters[\"W2\"]\n",
    "    b2 = parameters[\"b2\"]\n",
    "    \n",
    "    Z1 = np.dot(W1, input_data) + b1\n",
    "    A1 = np.tanh(Z1)\n",
    "    Z2 = np.dot(W2, A1) + b2\n",
    "    A2 = sigmoid(Z2)\n",
    "    \n",
    "    cache = {\"Z1\":Z1, \"A1\":A1, \"Z2\":Z2, \"A2\":A2}\n",
    "    \n",
    "    return A2, cache"
   ]
  },
  {
   "cell_type": "markdown",
   "id": "a5de650a",
   "metadata": {},
   "source": [
    "For each event, we compute the \n",
    "$\\textit{loss}$, which tells us how far off the network's guess was from the true label. For binary classification, the loss function we often us is the $\\textbf{binary crossentropy}$ $$\\mathcal{L}(\\hat{y}, y) = -y\\ln(\\hat{y}) - (1-y)\\ln(1-\\hat{y})$$ where $y$ is the true label and $\\hat{y}$ is the network's output (what we have been calling $A^{[2]}$). By eye, we can see that if the network's output matches the true label, the loss function will evaluate to zero.\n",
    "\n",
    "We can them compute a related quantity, called the $\\textit{cost}$\n",
    "$$C[W^{[1]}, b^{[1]}, W^{[2]}, b^{[2]}] = \\frac{1}{m}\\displaystyle\\sum_{i=1}^{m}\\mathcal{L}(\\hat{y}_{i}, y_{i})$$ which is just the average loss for each event in our training set and gives us a sense of how well our model is performing"
   ]
  },
  {
   "cell_type": "code",
   "execution_count": 12,
   "id": "0fd667ca",
   "metadata": {},
   "outputs": [],
   "source": [
    "def compute_cost(A2, true_labels, parameters):\n",
    "    m = true_labels.shape[1]\n",
    "    \n",
    "    cost = -(1/m) * (np.dot(true_labels, np.log(A2.T)) + np.dot((1-true_labels), np.log(1-A2).T))\n",
    "    cost = np.squeeze(cost)\n",
    "    \n",
    "    return cost"
   ]
  },
  {
   "cell_type": "markdown",
   "id": "66e93e7f",
   "metadata": {},
   "source": [
    "# Back Propagation\n",
    "\n",
    "The goal of training our neural network is to have its predictions get better and better with each iteration. To do this, we need a way of updating the parameters in our network---the weight matrices and biases---depending on how well our network performed. \n",
    "\n",
    "Given that we rigidly defined the cost function, we know how it depends on every parameter in our network. So, we can work our ways backwards to figure out how we the cost depends on each parameter in the network. Diagramatically, we can think of this in the following way:\n",
    "\n",
    "<img src='Images/back_prop.png'>\n",
    "\n",
    "where $\\frac{\\partial C}{\\partial W^{[2]}}$ tells us how $C$ depends on $W^{[2]}$. To actually compute this, we need to use the chain rule, which gives: \n",
    "$$ \\frac{\\partial C}{\\partial W^{[2]}} = \\frac{\\partial C}{\\partial A^{[2]}} \\frac{\\partial A^{[2]}}{\\partial Z^{[2]}} \\frac{\\partial Z^{[2]}}{\\partial W^{[2]}} =: \\textrm{\"dW2\"} $$\n",
    "We'll then need to repeat a similar calculation for $\\textrm{\"db2\"} = \\frac{\\partial C}{\\partial b^{[2]}}$, $\\textrm{\"dW1\"} = \\frac{\\partial C}{\\partial W^{[1]}}$, and $\\textrm{\"db1\"} = \\frac{\\partial C}{\\partial b^{[1]}}$\n",
    "\n",
    "For the sake of time, these gradients are provided below, but try and go back and calculate each one to make sure you understand where they came from (you may find it easier to compute these gradients with respect to the loss (single event), rather than the cose (all events)). "
   ]
  },
  {
   "cell_type": "code",
   "execution_count": 13,
   "id": "4848814a",
   "metadata": {},
   "outputs": [],
   "source": [
    "def back_prop(parameters, cache, input_data, true_labels):\n",
    "    m = input_data.shape[1]\n",
    "\n",
    "    W1 = parameters[\"W1\"]\n",
    "    W2 = parameters[\"W2\"]\n",
    "\n",
    "    A1 = cache[\"A1\"]\n",
    "    A2 = cache[\"A2\"]\n",
    "\n",
    "    dZ2 = A2 - true_labels\n",
    "    dW2 = (1/m)*np.dot(dZ2, A1.T)\n",
    "    db2 = (1/m)*np.sum(dZ2, axis=1, keepdims=True)\n",
    "    dZ1 = (1/m)*np.multiply(np.dot(W2.T, dZ2),(1-np.power(A1, 2)))\n",
    "    dW1 = (1/m)*np.dot(dZ1, input_data.T)\n",
    "    db1 = (1/m)*np.sum(dZ1, axis=1, keepdims=True)\n",
    "\n",
    "    grads = {\"dW1\":dW1, \"db1\":db1, \"dW2\":dW2, \"db2\":db2}\n",
    "\n",
    "    return grads"
   ]
  },
  {
   "cell_type": "markdown",
   "id": "7fb236cb",
   "metadata": {},
   "source": [
    "To actually update all of the parameters, we use a $\\textit{gradient descent}$ algorithm. The easiest way to explain this is diagramatically (image from https://towardsdatascience.com/quick-guide-to-gradient-descent-and-its-variants-97a7afb33add):\n",
    "\n",
    "<img src='Images/1*iNPHcCxIvcm7RwkRaMTx1g.jpeg'>\n",
    "\n",
    "We've computed the gradients of our cost function for each parameter, so we know how each parameter will affect the model's cost function. We then want to take a step of a certain size to a new value of each parameter, with that step being in the direction of the minimum value of the cost function. The size of this step, the $\\textit{learning rate}$, is another hyperparameter that we are free to set ourselves, like the number of hidden layers and the number of nodes in each hidden layer."
   ]
  },
  {
   "cell_type": "code",
   "execution_count": 14,
   "id": "209923fa",
   "metadata": {},
   "outputs": [],
   "source": [
    "def update_parameters(parameters, grads, learning_rate):\n",
    "    W1 = parameters[\"W1\"]\n",
    "    b1 = parameters[\"b1\"]\n",
    "    W2 = parameters[\"W2\"]\n",
    "    b2 = parameters[\"b2\"]\n",
    "\n",
    "    dW1 = grads[\"dW1\"]\n",
    "    db1 = grads[\"db1\"]\n",
    "    dW2 = grads[\"dW2\"]\n",
    "    db2 = grads[\"db2\"]\n",
    "\n",
    "    W1 = W1-learning_rate*dW1\n",
    "    b1 = b1-learning_rate*db1\n",
    "    W2 = W2-learning_rate*dW2\n",
    "    b2 = b2-learning_rate*db2\n",
    "\n",
    "    parameters = {\"W1\":W1, \"b1\":b1, \"W2\":W2, \"b2\":b2}\n",
    "\n",
    "    return parameters"
   ]
  },
  {
   "cell_type": "markdown",
   "id": "c7ba3965",
   "metadata": {},
   "source": [
    "# Putting it all together\n",
    "\n",
    "Now that we know how to define the model architecture, propagate our input data forward to get the model's guess at the correct label, and update all of the parameters in our network based on how closely the model's predicted labels were to the true labels, let's put everything together and actually train our neural network.\n",
    "\n",
    "We'll train our network for 1000 $\\textit{epochs}$, or pass throughs of our entire training set. "
   ]
  },
  {
   "cell_type": "code",
   "execution_count": 15,
   "id": "628bbcc9",
   "metadata": {},
   "outputs": [],
   "source": [
    "def nn_model(input_data, true_labels, n_hidden, num_iterations, learning_rate, print_cost=True):\n",
    "    n_inputs = nodes_per_layer(input_data, true_labels)[0]\n",
    "    n_outputs = nodes_per_layer(input_data, true_labels)[2]\n",
    "    \n",
    "    parameters = initialize_parameters(n_inputs, n_hidden, n_outputs)\n",
    "    #W1 = parameters[\"W1\"]\n",
    "    #b1 = parameters[\"b1\"]\n",
    "    #W2 = parameters[\"W2\"]\n",
    "    #b2 = parameters[\"b2\"]\n",
    "    cost_list = []\n",
    "    accuracy_list = []\n",
    "    for i in range(0, num_iterations): \n",
    "        A2, cache = forward_prop(input_data, parameters)\n",
    "        predictions = (A2 > 0.5)\n",
    "        accuracy = model_accuracy(true_labels[0], predictions[0])\n",
    "        cost = compute_cost(A2, true_labels, parameters)\n",
    "        accuracy_list.append(accuracy)\n",
    "        cost_list.append(cost)\n",
    "        grads = back_prop(parameters, cache, input_data, true_labels)\n",
    "        parameters = update_parameters(parameters, grads, learning_rate)\n",
    "        if print_cost and i%100==0:\n",
    "            print(f'After {i} iterations, the model\\'s cost is {np.round(cost, 5)} and its accuracy is {np.round(accuracy, 2)}%')\n",
    "\n",
    "    return parameters, cost_list, accuracy_list"
   ]
  },
  {
   "cell_type": "code",
   "execution_count": 16,
   "id": "0f4ec1ca",
   "metadata": {},
   "outputs": [],
   "source": [
    "def predict(parameters, input_data):\n",
    "    A2, cache = forward_prop(input_data, parameters)\n",
    "    predictions = (A2 > 0.5)\n",
    "\n",
    "    return predictions"
   ]
  },
  {
   "cell_type": "code",
   "execution_count": 17,
   "id": "967de764",
   "metadata": {},
   "outputs": [
    {
     "name": "stdout",
     "output_type": "stream",
     "text": [
      "After 0 iterations, the model's cost is 1.08445 and its accuracy is 50.14%\n",
      "After 100 iterations, the model's cost is 0.436 and its accuracy is 79.64%\n",
      "After 200 iterations, the model's cost is 0.38629 and its accuracy is 83.25%\n",
      "After 300 iterations, the model's cost is 0.35665 and its accuracy is 85.18%\n",
      "After 400 iterations, the model's cost is 0.33655 and its accuracy is 86.52%\n",
      "After 500 iterations, the model's cost is 0.32101 and its accuracy is 87.4%\n",
      "After 600 iterations, the model's cost is 0.31051 and its accuracy is 87.9%\n",
      "After 700 iterations, the model's cost is 0.30107 and its accuracy is 88.42%\n",
      "After 800 iterations, the model's cost is 0.29284 and its accuracy is 88.88%\n",
      "After 900 iterations, the model's cost is 0.28495 and its accuracy is 89.25%\n",
      "After 1000 iterations, the model's cost is 0.27863 and its accuracy is 89.5%\n",
      "This network took 208.53 seconds to train.\n",
      "Testing set accuracy: 89.37%\n"
     ]
    }
   ],
   "source": [
    "start=perf_counter()\n",
    "parameters, cost_list, accuracy_list = nn_model(training_data, training_labels, n_hidden=4, \n",
    "                                                num_iterations=1001, learning_rate=10)\n",
    "end=perf_counter()\n",
    "print(f\"This network took {np.round(end-start,2)} seconds to train.\")\n",
    "\n",
    "test_predictions = predict(parameters, testing_data)\n",
    "print(f\"Testing set accuracy: {np.round(model_accuracy(testing_labels[0], test_predictions[0]), 3)}%\")"
   ]
  },
  {
   "cell_type": "code",
   "execution_count": 18,
   "id": "227c927c",
   "metadata": {},
   "outputs": [
    {
     "data": {
      "text/plain": [
       "Text(0, 0.5, 'Accuracy')"
      ]
     },
     "execution_count": 18,
     "metadata": {},
     "output_type": "execute_result"
    },
    {
     "data": {
      "image/png": "[encoded data removed]",
      "text/plain": [
       "<Figure size 864x432 with 2 Axes>"
      ]
     },
     "metadata": {
      "needs_background": "light"
     },
     "output_type": "display_data"
    }
   ],
   "source": [
    "fig, ax = plt.subplots(1, 2, figsize=(12,6))\n",
    "\n",
    "ax[0].plot(cost_list)\n",
    "ax[0].set_xlabel('Model Iteration', fontsize='x-large')\n",
    "ax[0].set_ylabel('Cost', fontsize='x-large')\n",
    "\n",
    "ax[1].plot(accuracy_list)\n",
    "ax[1].set_xlabel('Model Iteration', fontsize='x-large')\n",
    "ax[1].set_ylabel('Accuracy', fontsize='x-large')"
   ]
  },
  {
   "cell_type": "markdown",
   "id": "6be7e87c",
   "metadata": {},
   "source": [
    "# Simplifying the process with Keras"
   ]
  },
  {
   "cell_type": "markdown",
   "id": "1bfc956c",
   "metadata": {},
   "source": [
    "While the above example is useful for de-mystifying machine learning and gaining an appreciation for what's going on under the hood, it won't be what you use (or want to use) in practice. \n",
    "\n",
    "Keras (https://keras.io) is a powerful, easy-to-use machine learning API built on top of TensorFlow2 (https://www.tensorflow.org). Here, we'll use Keras to build a neural network with an identical architecture, train that model on the same data, and see how it compares to the network we wrote from scratch."
   ]
  },
  {
   "cell_type": "code",
   "execution_count": 19,
   "id": "b63a1c1f",
   "metadata": {},
   "outputs": [],
   "source": [
    "import tensorflow as tf"
   ]
  },
  {
   "cell_type": "code",
   "execution_count": 20,
   "id": "47358565",
   "metadata": {},
   "outputs": [
    {
     "name": "stdout",
     "output_type": "stream",
     "text": [
      "Metal device set to: Apple M1 Pro\n",
      "Epoch 1/50\n"
     ]
    },
    {
     "name": "stderr",
     "output_type": "stream",
     "text": [
      "2022-02-24 16:56:35.066726: I tensorflow/core/common_runtime/pluggable_device/pluggable_device_factory.cc:305] Could not identify NUMA node of platform GPU ID 0, defaulting to 0. Your kernel may not have been built with NUMA support.\n",
      "2022-02-24 16:56:35.066838: I tensorflow/core/common_runtime/pluggable_device/pluggable_device_factory.cc:271] Created TensorFlow device (/job:localhost/replica:0/task:0/device:GPU:0 with 0 MB memory) -> physical PluggableDevice (device: 0, name: METAL, pci bus id: <undefined>)\n",
      "2022-02-24 16:56:35.199489: I tensorflow/compiler/mlir/mlir_graph_optimization_pass.cc:176] None of the MLIR Optimization Passes are enabled (registered 2)\n",
      "2022-02-24 16:56:35.199662: W tensorflow/core/platform/profile_utils/cpu_utils.cc:128] Failed to get CPU frequency: 0 Hz\n"
     ]
    },
    {
     "name": "stdout",
     "output_type": "stream",
     "text": [
      " 22/200 [==>...........................] - ETA: 0s - loss: 0.7432 - acc: 0.4757"
     ]
    },
    {
     "name": "stderr",
     "output_type": "stream",
     "text": [
      "2022-02-24 16:56:35.303368: I tensorflow/core/grappler/optimizers/custom_graph_optimizer_registry.cc:112] Plugin optimizer for device_type GPU is enabled.\n"
     ]
    },
    {
     "name": "stdout",
     "output_type": "stream",
     "text": [
      "200/200 [==============================] - 1s 6ms/step - loss: 0.5138 - acc: 0.7398 - val_loss: 0.3921 - val_acc: 0.8462\n",
      "Epoch 2/50\n",
      " 12/200 [>.............................] - ETA: 0s - loss: 0.4182 - acc: 0.8242"
     ]
    },
    {
     "name": "stderr",
     "output_type": "stream",
     "text": [
      "2022-02-24 16:56:36.400655: I tensorflow/core/grappler/optimizers/custom_graph_optimizer_registry.cc:112] Plugin optimizer for device_type GPU is enabled.\n"
     ]
    },
    {
     "name": "stdout",
     "output_type": "stream",
     "text": [
      "200/200 [==============================] - 1s 5ms/step - loss: 0.3889 - acc: 0.8327 - val_loss: 0.3486 - val_acc: 0.8643\n",
      "Epoch 3/50\n",
      "200/200 [==============================] - 1s 5ms/step - loss: 0.3604 - acc: 0.8407 - val_loss: 0.3386 - val_acc: 0.8670\n",
      "Epoch 4/50\n",
      "200/200 [==============================] - 1s 5ms/step - loss: 0.3427 - acc: 0.8541 - val_loss: 0.3041 - val_acc: 0.8827\n",
      "Epoch 5/50\n",
      "200/200 [==============================] - 1s 5ms/step - loss: 0.3370 - acc: 0.8554 - val_loss: 0.3007 - val_acc: 0.8807\n",
      "Epoch 6/50\n",
      "200/200 [==============================] - 1s 5ms/step - loss: 0.3287 - acc: 0.8639 - val_loss: 0.2871 - val_acc: 0.8857\n",
      "Epoch 7/50\n",
      "200/200 [==============================] - 1s 5ms/step - loss: 0.3085 - acc: 0.8639 - val_loss: 0.3009 - val_acc: 0.8481\n",
      "Epoch 8/50\n",
      "200/200 [==============================] - 1s 5ms/step - loss: 0.3207 - acc: 0.8675 - val_loss: 0.3097 - val_acc: 0.8693\n",
      "Epoch 9/50\n",
      "200/200 [==============================] - 1s 5ms/step - loss: 0.3046 - acc: 0.8701 - val_loss: 0.2711 - val_acc: 0.8819\n",
      "Epoch 10/50\n",
      "200/200 [==============================] - 1s 5ms/step - loss: 0.2968 - acc: 0.8730 - val_loss: 0.2703 - val_acc: 0.8754\n",
      "Epoch 11/50\n",
      "200/200 [==============================] - 1s 6ms/step - loss: 0.2881 - acc: 0.8700 - val_loss: 0.2727 - val_acc: 0.9041\n",
      "Epoch 12/50\n",
      "200/200 [==============================] - 1s 6ms/step - loss: 0.2765 - acc: 0.8912 - val_loss: 0.2573 - val_acc: 0.9080\n",
      "Epoch 13/50\n",
      "200/200 [==============================] - 1s 6ms/step - loss: 0.2933 - acc: 0.8701 - val_loss: 0.2467 - val_acc: 0.9003\n",
      "Epoch 14/50\n",
      "200/200 [==============================] - 1s 5ms/step - loss: 0.2749 - acc: 0.8889 - val_loss: 0.2530 - val_acc: 0.8973\n",
      "Epoch 15/50\n",
      "200/200 [==============================] - 1s 5ms/step - loss: 0.2639 - acc: 0.8972 - val_loss: 0.2589 - val_acc: 0.9060\n",
      "Epoch 16/50\n",
      "200/200 [==============================] - 1s 6ms/step - loss: 0.2578 - acc: 0.8981 - val_loss: 0.2297 - val_acc: 0.9229\n",
      "Epoch 17/50\n",
      "200/200 [==============================] - 1s 6ms/step - loss: 0.2607 - acc: 0.9047 - val_loss: 0.2338 - val_acc: 0.9164\n",
      "Epoch 18/50\n",
      "200/200 [==============================] - 1s 6ms/step - loss: 0.2601 - acc: 0.8985 - val_loss: 0.2360 - val_acc: 0.9122\n",
      "Epoch 19/50\n",
      "200/200 [==============================] - 1s 6ms/step - loss: 0.2505 - acc: 0.9088 - val_loss: 0.2275 - val_acc: 0.9210\n",
      "Epoch 20/50\n",
      "200/200 [==============================] - 1s 6ms/step - loss: 0.2549 - acc: 0.9064 - val_loss: 0.2479 - val_acc: 0.9157\n",
      "Epoch 21/50\n",
      "200/200 [==============================] - 1s 5ms/step - loss: 0.2457 - acc: 0.9117 - val_loss: 0.2282 - val_acc: 0.9184\n",
      "Epoch 22/50\n",
      "200/200 [==============================] - 1s 5ms/step - loss: 0.2479 - acc: 0.9047 - val_loss: 0.2295 - val_acc: 0.9113\n",
      "Epoch 23/50\n",
      "200/200 [==============================] - 1s 5ms/step - loss: 0.2448 - acc: 0.9108 - val_loss: 0.2244 - val_acc: 0.9251\n",
      "Epoch 24/50\n",
      "200/200 [==============================] - 1s 5ms/step - loss: 0.2458 - acc: 0.9092 - val_loss: 0.2256 - val_acc: 0.9229\n",
      "Epoch 25/50\n",
      "200/200 [==============================] - 1s 5ms/step - loss: 0.2491 - acc: 0.9098 - val_loss: 0.2354 - val_acc: 0.9108\n",
      "Epoch 26/50\n",
      "200/200 [==============================] - 1s 5ms/step - loss: 0.2495 - acc: 0.9100 - val_loss: 0.2376 - val_acc: 0.9103\n",
      "Epoch 27/50\n",
      "200/200 [==============================] - 1s 5ms/step - loss: 0.2415 - acc: 0.9146 - val_loss: 0.2143 - val_acc: 0.9299\n",
      "Epoch 28/50\n",
      "200/200 [==============================] - 1s 5ms/step - loss: 0.2349 - acc: 0.9150 - val_loss: 0.2232 - val_acc: 0.9169\n",
      "Epoch 29/50\n",
      "200/200 [==============================] - 1s 5ms/step - loss: 0.2348 - acc: 0.9162 - val_loss: 0.2196 - val_acc: 0.9236\n",
      "Epoch 30/50\n",
      "200/200 [==============================] - 1s 5ms/step - loss: 0.2428 - acc: 0.9043 - val_loss: 0.2188 - val_acc: 0.9232\n",
      "Epoch 31/50\n",
      "200/200 [==============================] - 1s 5ms/step - loss: 0.2298 - acc: 0.9181 - val_loss: 0.2041 - val_acc: 0.9318\n",
      "Epoch 32/50\n",
      "200/200 [==============================] - 1s 5ms/step - loss: 0.2360 - acc: 0.9101 - val_loss: 0.2376 - val_acc: 0.8971\n",
      "Epoch 33/50\n",
      "200/200 [==============================] - 1s 5ms/step - loss: 0.2562 - acc: 0.8951 - val_loss: 0.2131 - val_acc: 0.9272\n",
      "Epoch 34/50\n",
      "200/200 [==============================] - 1s 5ms/step - loss: 0.2261 - acc: 0.9158 - val_loss: 0.2016 - val_acc: 0.9318\n",
      "Epoch 35/50\n",
      "200/200 [==============================] - 1s 5ms/step - loss: 0.2220 - acc: 0.9151 - val_loss: 0.2042 - val_acc: 0.9321\n",
      "Epoch 36/50\n",
      "200/200 [==============================] - 1s 5ms/step - loss: 0.2224 - acc: 0.9196 - val_loss: 0.2120 - val_acc: 0.9248\n",
      "Epoch 37/50\n",
      "200/200 [==============================] - 1s 5ms/step - loss: 0.2257 - acc: 0.9166 - val_loss: 0.2000 - val_acc: 0.9342\n",
      "Epoch 38/50\n",
      "200/200 [==============================] - 1s 5ms/step - loss: 0.2260 - acc: 0.9157 - val_loss: 0.2088 - val_acc: 0.9296\n",
      "Epoch 39/50\n",
      "200/200 [==============================] - 1s 5ms/step - loss: 0.2184 - acc: 0.9160 - val_loss: 0.1983 - val_acc: 0.9319\n",
      "Epoch 40/50\n",
      "200/200 [==============================] - 1s 5ms/step - loss: 0.2213 - acc: 0.9153 - val_loss: 0.2037 - val_acc: 0.9233\n",
      "Epoch 41/50\n",
      "200/200 [==============================] - 1s 5ms/step - loss: 0.2196 - acc: 0.9173 - val_loss: 0.2071 - val_acc: 0.9238\n",
      "Epoch 42/50\n",
      "200/200 [==============================] - 1s 5ms/step - loss: 0.2203 - acc: 0.9151 - val_loss: 0.2081 - val_acc: 0.9271\n",
      "Epoch 43/50\n",
      "200/200 [==============================] - 1s 5ms/step - loss: 0.2190 - acc: 0.9178 - val_loss: 0.1999 - val_acc: 0.9324\n",
      "Epoch 44/50\n",
      "200/200 [==============================] - 1s 5ms/step - loss: 0.2151 - acc: 0.9201 - val_loss: 0.2011 - val_acc: 0.9334\n",
      "Epoch 45/50\n",
      "200/200 [==============================] - 1s 5ms/step - loss: 0.2193 - acc: 0.9185 - val_loss: 0.2056 - val_acc: 0.9274\n",
      "Epoch 46/50\n",
      "200/200 [==============================] - 1s 5ms/step - loss: 0.2185 - acc: 0.9136 - val_loss: 0.2031 - val_acc: 0.9254\n",
      "Epoch 47/50\n",
      "200/200 [==============================] - 1s 5ms/step - loss: 0.2191 - acc: 0.9165 - val_loss: 0.1945 - val_acc: 0.9351\n",
      "Epoch 48/50\n",
      "200/200 [==============================] - 1s 5ms/step - loss: 0.2128 - acc: 0.9201 - val_loss: 0.2036 - val_acc: 0.9301\n",
      "Epoch 49/50\n",
      "200/200 [==============================] - 1s 5ms/step - loss: 0.2138 - acc: 0.9210 - val_loss: 0.2085 - val_acc: 0.9191\n",
      "Epoch 50/50\n",
      "200/200 [==============================] - 1s 5ms/step - loss: 0.2047 - acc: 0.9215 - val_loss: 0.1913 - val_acc: 0.9334\n"
     ]
    }
   ],
   "source": [
    "# define and train a keras model\n",
    "\n",
    "input_layer = tf.keras.layers.Input((training_data.T.shape[1],))\n",
    "hidden_layer = tf.keras.layers.Dense(4, activation='tanh')(input_layer)\n",
    "output_layer = tf.keras.layers.Dense(1, activation='sigmoid')(hidden_layer)\n",
    "\n",
    "keras_model = tf.keras.Model(inputs=input_layer, outputs=output_layer)\n",
    "keras_model.compile(loss='binary_crossentropy', optimizer=tf.keras.optimizers.Adam(1e-3), metrics=['acc'])\n",
    "\n",
    "history = keras_model.fit(training_data.T, training_labels.T, verbose=1, validation_split=0.15, \n",
    "                          epochs=50, batch_size=256)"
   ]
  },
  {
   "cell_type": "code",
   "execution_count": 21,
   "id": "e1d2f11e",
   "metadata": {},
   "outputs": [
    {
     "data": {
      "image/png": "[encoded data removed]",
      "text/plain": [
       "<Figure size 576x288 with 2 Axes>"
      ]
     },
     "metadata": {
      "needs_background": "light"
     },
     "output_type": "display_data"
    }
   ],
   "source": [
    "# how does the model we instantiated with Keras compare to the one we made from scratch?\n",
    "\n",
    "fig, ax = plt.subplots(1,2, figsize=(8,4), constrained_layout=True)\n",
    "\n",
    "ax[0].plot(cost_list, label='NN From Scratch')\n",
    "ax[0].plot(history.history['loss'], label='Keras NN')\n",
    "ax[0].set_xlabel('Epoch', fontsize='x-large')\n",
    "ax[0].set_ylabel('Cost', fontsize='x-large')\n",
    "ax[0].legend(loc='upper right', fontsize='large')\n",
    "\n",
    "ax[1].plot(0.01*np.array(accuracy_list), label='NN from Scratch')\n",
    "ax[1].plot(history.history['acc'], label='Keras NN')\n",
    "ax[1].set_xlabel('Epoch', fontsize='x-large')\n",
    "ax[1].set_ylabel('Accuracy', fontsize='x-large')\n",
    "ax[1].legend(loc='lower right', fontsize='large');"
   ]
  },
  {
   "cell_type": "code",
   "execution_count": null,
   "id": "069c26b1",
   "metadata": {},
   "outputs": [],
   "source": []
  }
 ],
 "metadata": {
  "kernelspec": {
   "display_name": "Python 3.9 (tensorflow)",
   "language": "python",
   "name": "tensorflow"
  },
  "language_info": {
   "codemirror_mode": {
    "name": "ipython",
    "version": 3
   },
   "file_extension": ".py",
   "mimetype": "text/x-python",
   "name": "python",
   "nbconvert_exporter": "python",
   "pygments_lexer": "ipython3",
   "version": "3.9.10"
  }
 },
 "nbformat": 4,
 "nbformat_minor": 5
}
