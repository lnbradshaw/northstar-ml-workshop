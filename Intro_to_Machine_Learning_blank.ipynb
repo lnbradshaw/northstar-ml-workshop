{
 "cells": [
  {
   "cell_type": "code",
   "execution_count": 1,
   "id": "5a8067f4",
   "metadata": {},
   "outputs": [],
   "source": [
    "import numpy as np\n",
    "import matplotlib.pyplot as plt\n",
    "from time import perf_counter\n",
    "\n",
    "plt.rcParams.update({'font.family': 'cmr10', 'font.size': 12})\n",
    "plt.rcParams['axes.unicode_minus'] = False\n",
    "plt.rcParams['axes.labelsize'] = 12\n",
    "plt.rcParams['figure.dpi'] = 100\n",
    "plt.rcParams['mathtext.fontset'] = 'cm'\n",
    "plt.rcParams['mathtext.rm'] = 'serif'\n",
    "plt.rcParams['xtick.direction'] = 'in'\n",
    "plt.rcParams['ytick.direction'] = 'in'\n",
    "plt.rcParams['xtick.top'] = True\n",
    "plt.rcParams['ytick.right'] = True\n",
    "plt.rcParams['axes.formatter.use_mathtext'] = True\n",
    "\n",
    "%matplotlib inline"
   ]
  },
  {
   "cell_type": "code",
   "execution_count": 2,
   "id": "cc15b047",
   "metadata": {},
   "outputs": [],
   "source": [
    "# Define a few useful functions \n",
    "\n",
    "def preview_img(index, data):\n",
    "    \"\"\"\n",
    "    index: int, index of the image to display\n",
    "    \n",
    "    data: array, dataset to diplay an image from\n",
    "    \"\"\"\n",
    "    if index > data.shape[0]:\n",
    "        print(f\"The index you choose must be less than {data.shape[0]}\")\n",
    "    else:\n",
    "        fig, ax = plt.subplots(1,1, figsize=(4,4))\n",
    "        ax.matshow(data[index,...], cmap='gray')\n",
    "        ax.set_axis_off()\n",
    "        \n",
    "def model_accuracy(actual, predicted):\n",
    "    correct = 0\n",
    "    for i in range(len(actual)):\n",
    "        if actual[i] == predicted[i]:\n",
    "            correct += 1\n",
    "    return correct / float(len(actual)) * 100"
   ]
  },
  {
   "cell_type": "code",
   "execution_count": 3,
   "id": "f6c53e5c",
   "metadata": {},
   "outputs": [],
   "source": [
    "# If you have not already installed TensorFlow and Keras, un-comment and run the following lines\n",
    "\n",
    "#! pip install tensorflow\n",
    "# If you have a Mac and the above line didn't work, try the one below\n",
    "#! pip install tensorflow-macos\n",
    "\n",
    "#! pip install keras"
   ]
  },
  {
   "cell_type": "markdown",
   "id": "2d899920",
   "metadata": {},
   "source": [
    "# Exploring and preprocessing our data"
   ]
  },
  {
   "cell_type": "code",
   "execution_count": 4,
   "id": "7a3fa219",
   "metadata": {},
   "outputs": [
    {
     "name": "stdout",
     "output_type": "stream",
     "text": [
      "Init Plugin\n",
      "Init Graph Optimizer\n",
      "Init Kernel\n",
      "(60000, 28, 28) (10000, 28, 28)\n",
      "(60000,) (10000,)\n"
     ]
    }
   ],
   "source": [
    "# start by loading in data\n",
    "\n",
    "from tensorflow.keras.datasets import mnist\n",
    "\n",
    "(training_data, training_labels), (testing_data, testing_labels) = mnist.load_data()\n",
    "\n",
    "print(training_data.shape, testing_data.shape)\n",
    "print(training_labels.shape, testing_labels.shape)"
   ]
  },
  {
   "cell_type": "markdown",
   "id": "fa232205",
   "metadata": {},
   "source": [
    "By default, the label associated with each image is the value of the digit shown in that image. Since we're only interested in whether or not the handwritten digit is even or odd, we want to adjust the labels so that every even digit is labeled by a zero, and every odd digit is labeled by a one."
   ]
  },
  {
   "cell_type": "code",
   "execution_count": 5,
   "id": "d91d7569",
   "metadata": {},
   "outputs": [],
   "source": [
    "training_labels[training_labels%2==0] = 0\n",
    "training_labels[training_labels%2==1] = 1\n",
    "testing_labels[testing_labels%2==0] = 0\n",
    "testing_labels[testing_labels%2==1] = 1"
   ]
  },
  {
   "cell_type": "markdown",
   "id": "c70fa68e",
   "metadata": {},
   "source": [
    "With the labels sorted, let's make sure that the data matches what we expect. The training (testing) data contains 60,000 (10,000) 28x28 greyscale images of handwritten digits. Pick a few numbers between 0 and 59,999 and plug them into the <tt>preview_img</tt> function below."
   ]
  },
  {
   "cell_type": "code",
   "execution_count": 6,
   "id": "2c89e866",
   "metadata": {},
   "outputs": [
    {
     "data": {
      "image/png": "[encoded data removed]",
      "text/plain": [
       "<Figure size 288x288 with 1 Axes>"
      ]
     },
     "metadata": {
      "needs_background": "light"
     },
     "output_type": "display_data"
    }
   ],
   "source": [
    "preview_img(12345, training_data)"
   ]
  },
  {
   "cell_type": "markdown",
   "id": "04a04663",
   "metadata": {},
   "source": [
    "For the network we'll be building today, we'll want to reformat each image as a column vector, and then stack all of those column vectors side-by-side into a 'matrix' that looks like $$\\begin{bmatrix} | & | & | & \\ldots & | \\\\ x^{[0]}_{i} & x^{[1]}_{i} & x^{[2]}_{i} & \\ldots & x^{[N]}_{i} \\\\ | & | & | & \\ldots & | \\end{bmatrix}$$ where $x^{[k]}_{i}$ is the intensity of the $i$th pixel in the $k$th image, and $N$ is the total number of images we have (60,000 for the training set, 10,000 for the testing set)\n",
    "\n",
    "There are network that allow us to train directly on images (Convolutional Neural Networks), but we won't be discussing those today."
   ]
  },
  {
   "cell_type": "code",
   "execution_count": 7,
   "id": "5370ac58",
   "metadata": {},
   "outputs": [],
   "source": [
    "training_data = training_data.reshape(-1, training_data.shape[1]*training_data.shape[2]).T\n",
    "testing_data = testing_data.reshape(-1, testing_data.shape[1]*testing_data.shape[2]).T\n",
    "training_labels = training_labels.reshape(1,-1)\n",
    "testing_labels = testing_labels.reshape(1,-1)"
   ]
  },
  {
   "cell_type": "markdown",
   "id": "d73040fc",
   "metadata": {},
   "source": [
    "# Defining the Model Architecture\n",
    "\n",
    "We can think of our neural network in the following way:\n",
    "\n",
    "![](Images/black_box_nn.png)\n",
    "\n",
    "where the inner workings are quite literally (for now, at least) a black box. \n",
    "\n",
    "Inside this model, there are a number of $\\textit{layers}$, corresponding to either our input data, the model's output, or some learned representation along the way. We say a layer is \"hidden\" if it isn't the model's input or output, since we typically don't access any of the information in those layers. If it's helpful, you can think of these layers as being column vectors. Our updated picture now looks like:\n",
    "\n",
    "![](Images/nn_arch.png)\n",
    "\n",
    "Each \\emph{layer} consists of a certain number of $\\textit{nodes}$. For our example, the number of nodes in the input layer will be the total number of pixels in the input image. We'll only have a single node in the output layer, since we want our model to learn whether a given input corresponds to one of two classes. \n",
    "\n",
    "The network we'll build today is called a $\\textbf{Dense}$ network since every node in the $k$th layer depends on every node in the $k-1$th layer. Diagramatically, this looks like:\n",
    "\n",
    "![](Images/dense_layout.png)\n",
    "\n",
    "where each circle represents a node in a given layer, and each arrow indicates how much the node in one layer depends on the value of the node in the previous layer.\n",
    "\n",
    "Mathematically, the value of the $i$th node in the $k$th layer is $$z^{[k]}_{i} = \\displaystyle\\sum_{j=1}^{N_{k-1}} w_{ij}z^{[k-1]}_{j} + b_{i}$$ where $w_{ij}$ is a matrix of weights connecting the $i$th node in the $k$th layer to all of the nodes in the $k-1$th layer, and $b_{i}$ is bias parameter that can also be learned. We can then do this operation for every node $i$ in layer $k$ by stacking them in a column. \n",
    "\n",
    "$$\n",
    "\\begin{bmatrix} x_{0}^{[k]} \\\\ x_{1}^{[k]} \\\\ \\vdots \\\\ x_{N_{k}}^{[k]}\\end{bmatrix} = \n",
    "\\begin{bmatrix} w_{00} & w_{01} & \\ldots & w_{0 N_{k-1}} \\\\ w_{10} & w_{11}  & \\ldots &  w_{1 N_{k-1}} \\\\ \\vdots & \\vdots & \\ddots & \\vdots \\\\ w_{N_{k} 0} & w_{N_{k} 1} & \\ldots &  w_{N_{k} N_{k-1}} \\end{bmatrix}\n",
    "\\begin{bmatrix} x_{0}^{[k-1]} \\\\ x_{1}^{[k-1]} \\\\ \\vdots \\\\ x_{N_{k-1}}^{[k-1]}\\end{bmatrix} + \n",
    "\\begin{bmatrix} b_{0}^{[k]} \\\\ b_{1}^{[k]} \\\\ \\vdots \\\\ b_{N_{k}}^{[k]}\\end{bmatrix}\n",
    "$$\n",
    "\n",
    "To summarize, the architecture of the network is determined by the the number of layers we use, and the number of nodes in each layer. The number of nodes in the input and output layers will be determined by our data and the task we ultimately want to do, but we are free to set the number of hidden layers as well as the number of nodes in each of those hidden layers. For simplicity, we will create a model with just a single hidden layer."
   ]
  },
  {
   "cell_type": "code",
   "execution_count": 8,
   "id": "a7fb9516",
   "metadata": {},
   "outputs": [],
   "source": [
    "def nodes_per_layer(input_data, true_labels):\n",
    "    \"\"\"\n",
    "    Define the number of nodes in each layer. The number of nodes in the input and output layer are determined \n",
    "    by our input data and true_labels, respectively. But, we are free to set the number of nodes \n",
    "    in the hidden layer.\n",
    "    \"\"\"\n",
    "    "
   ]
  },
  {
   "cell_type": "code",
   "execution_count": 9,
   "id": "64e88673",
   "metadata": {},
   "outputs": [],
   "source": [
    "def initialize_parameters(n_inputs, n_hidden, n_outputs):\n",
    "    \"\"\"\n",
    "    Initialize all of the parameters used to train the model, given the number of nodes in each layer. \n",
    "    W1 will connect our input layer to the hidden layer, W2 will connect the input layer to the output layer. \n",
    "    To start, we will set both bias vectors to 0.\n",
    "    \"\"\"\n",
    "    "
   ]
  },
  {
   "cell_type": "markdown",
   "id": "a4fd15ec",
   "metadata": {},
   "source": [
    "# Forward Propagation\n",
    "\n",
    "With the architecture of our model defined, we can take the first step towards training it. Starting from our input data, we'll carry out the necessary operations to produce the model's prediction for each input's corresponding label. \n",
    "\n",
    "The power of machine learning comes from being able to learn non-linearities present in our data. Our current formulation of connecting layers , however, only allows us to learn linear combinations of our data. To correct this, we then need to pass each layer (with the exception of the input layer) through a nonlinear function, called an $\\textit{activation}$ function. \n",
    "\n",
    "For the hidden layer, we'll be using the <tt>tanh</tt> function, though there are other choices we could have made. For the output layer though, we want to make sure that we choose a function who's domain is $[0,1]$ since the labels we want our model to predict are either 0 or 1. We will use the <tt>sigmoid</tt> activation function for the output layer. Note that if we were interested in a different task, we would want to choose a different activation function for the output layer. "
   ]
  },
  {
   "cell_type": "code",
   "execution_count": 10,
   "id": "126b8e37",
   "metadata": {},
   "outputs": [
    {
     "data": {
      "image/png": "[encoded data removed]",
      "text/plain": [
       "<Figure size 288x288 with 1 Axes>"
      ]
     },
     "metadata": {
      "needs_background": "light"
     },
     "output_type": "display_data"
    }
   ],
   "source": [
    "def sigmoid(x):\n",
    "\n",
    "# plot the sigmoid function"
   ]
  },
  {
   "cell_type": "code",
   "execution_count": 11,
   "id": "efa15a24",
   "metadata": {},
   "outputs": [],
   "source": [
    "def forward_prop(input_data, parameters):\n"
   ]
  },
  {
   "cell_type": "markdown",
   "id": "a5de650a",
   "metadata": {},
   "source": [
    "For each event, we compute the \n",
    "$\\textit{loss}$, which tells us how far off the network's guess was from the true label. For binary classification, the loss function we often us is the $\\textbf{binary crossentropy}$ $$\\mathcal{L}(\\hat{y}, y) = -y\\ln(\\hat{y}) - (1-y)\\ln(1-\\hat{y})$$ where $y$ is the true label and $\\hat{y}$ is the network's output (what we have been calling $A^{[2]}$). By eye, we can see that if the network's output matches the true label, the loss function will evaluate to zero.\n",
    "\n",
    "We can them compute a related quantity, called the $\\textit{cost}$\n",
    "$$C[W^{[1]}, b^{[1]}, W^{[2]}, b^{[2]}] = \\frac{1}{m}\\displaystyle\\sum_{i=1}^{m}\\mathcal{L}(\\hat{y}_{i}, y_{i})$$ which is just the average loss for each event in our training set and gives us a sense of how well our model is performing"
   ]
  },
  {
   "cell_type": "code",
   "execution_count": 12,
   "id": "0fd667ca",
   "metadata": {},
   "outputs": [],
   "source": [
    "def compute_cost(A2, true_labels, parameters):\n"
   ]
  },
  {
   "cell_type": "markdown",
   "id": "66e93e7f",
   "metadata": {},
   "source": [
    "# Back Propagation\n",
    "\n",
    "The goal of training our neural network is to have its predictions get better and better with each iteration. To do this, we need a way of updating the parameters in our network---the weight matrices and biases---depending on how well our network performed. \n",
    "\n",
    "Given that we rigidly defined the cost function, we know how it depends on every parameter in our network. So, we can work our ways backwards to figure out how we the cost depends on each parameter in the network. Diagramatically, we can think of this in the following way:\n",
    "\n",
    "<img src='Images/back_prop.png'>\n",
    "\n",
    "where $\\frac{\\partial C}{\\partial W^{[2]}}$ tells us how $C$ depends on $W^{[2]}$. To actually compute this, we need to use the chain rule, which gives: \n",
    "$$ \\frac{\\partial C}{\\partial W^{[2]}} = \\frac{\\partial C}{\\partial A^{[2]}} \\frac{\\partial A^{[2]}}{\\partial Z^{[2]}} \\frac{\\partial Z^{[2]}}{\\partial W^{[2]}} =: \\textrm{\"dW2\"} $$\n",
    "We'll then need to repeat a similar calculation for $\\textrm{\"db2\"} = \\frac{\\partial C}{\\partial b^{[2]}}$, $\\textrm{\"dW1\"} = \\frac{\\partial C}{\\partial W^{[1]}}$, and $\\textrm{\"db1\"} = \\frac{\\partial C}{\\partial b^{[1]}}$\n",
    "\n",
    "For the sake of time, these gradients are provided below, but try and go back and calculate each one to make sure you understand where they came from (you may find it easier to compute these gradients with respect to the loss (single event), rather than the cose (all events)). "
   ]
  },
  {
   "cell_type": "code",
   "execution_count": 13,
   "id": "4848814a",
   "metadata": {},
   "outputs": [],
   "source": [
    "def back_prop(parameters, cache, input_data, true_labels):\n",
    "    m = input_data.shape[1]\n",
    "\n",
    "    W1 = parameters[\"W1\"]\n",
    "    W2 = parameters[\"W2\"]\n",
    "\n",
    "    A1 = cache[\"A1\"]\n",
    "    A2 = cache[\"A2\"]\n",
    "\n",
    "    dZ2 = A2 - true_labels\n",
    "    dW2 = (1/m)*np.dot(dZ2, A1.T)\n",
    "    db2 = (1/m)*np.sum(dZ2, axis=1, keepdims=True)\n",
    "    dZ1 = (1/m)*np.multiply(np.dot(W2.T, dZ2),(1-np.power(A1, 2)))\n",
    "    dW1 = (1/m)*np.dot(dZ1, input_data.T)\n",
    "    db1 = (1/m)*np.sum(dZ1, axis=1, keepdims=True)\n",
    "\n",
    "    grads = {\"dW1\":dW1, \"db1\":db1, \"dW2\":dW2, \"db2\":db2}\n",
    "\n",
    "    return grads"
   ]
  },
  {
   "cell_type": "markdown",
   "id": "7fb236cb",
   "metadata": {},
   "source": [
    "To actually update all of the parameters, we use a $\\textit{gradient descent}$ algorithm. The easiest way to explain this is diagramatically (image from https://towardsdatascience.com/quick-guide-to-gradient-descent-and-its-variants-97a7afb33add):\n",
    "\n",
    "<img src='Images/1*iNPHcCxIvcm7RwkRaMTx1g.jpeg'>\n",
    "\n",
    "We've computed the gradients of our cost function for each parameter, so we know how each parameter will affect the model's cost function. We then want to take a step of a certain size to a new value of each parameter, with that step being in the direction of the minimum value of the cost function. The size of this step, the $\\textit{learning rate}$, is another hyperparameter that we are free to set ourselves, like the number of hidden layers and the number of nodes in each hidden layer."
   ]
  },
  {
   "cell_type": "code",
   "execution_count": 14,
   "id": "209923fa",
   "metadata": {},
   "outputs": [],
   "source": [
    "def update_parameters(parameters, grads, learning_rate):\n",
    "    \"\"\"\n",
    "    Given the model parameters, gradients, and learning rate, we can update each parameter as \n",
    "    parameter = parameter-learning_rate*gradient\n",
    "    \"\"\"\n",
    "    \n",
    "    "
   ]
  },
  {
   "cell_type": "markdown",
   "id": "c7ba3965",
   "metadata": {},
   "source": [
    "# Putting it all together\n",
    "\n",
    "Now that we know how to define the model architecture, propagate our input data forward to get the model's guess at the correct label, and update all of the parameters in our network based on how closely the model's predicted labels were to the true labels, let's put everything together and actually train our neural network.\n",
    "\n",
    "We'll train our network for 1000 $\\textit{epochs}$, or pass throughs of our entire training set. "
   ]
  },
  {
   "cell_type": "code",
   "execution_count": 15,
   "id": "628bbcc9",
   "metadata": {},
   "outputs": [],
   "source": [
    "def nn_model(input_data, true_labels, n_hidden, num_iterations, learning_rate, print_cost=True):\n"
   ]
  },
  {
   "cell_type": "code",
   "execution_count": 16,
   "id": "0f4ec1ca",
   "metadata": {},
   "outputs": [],
   "source": [
    "def predict(parameters, input_data):\n"
   ]
  },
  {
   "cell_type": "code",
   "execution_count": 17,
   "id": "967de764",
   "metadata": {},
   "outputs": [
    {
     "name": "stdout",
     "output_type": "stream",
     "text": [
      "After 0 iterations, the model's cost is 1.40214 and its accuracy is 53.84%\n",
      "After 100 iterations, the model's cost is 0.39203 and its accuracy is 84.25%\n",
      "After 200 iterations, the model's cost is 0.35236 and its accuracy is 86.41%\n",
      "After 300 iterations, the model's cost is 0.32314 and its accuracy is 87.84%\n",
      "After 400 iterations, the model's cost is 0.29577 and its accuracy is 88.97%\n",
      "After 500 iterations, the model's cost is 0.27844 and its accuracy is 89.84%\n",
      "After 600 iterations, the model's cost is 0.26346 and its accuracy is 90.36%\n",
      "After 700 iterations, the model's cost is 0.25291 and its accuracy is 90.76%\n",
      "After 800 iterations, the model's cost is 0.24539 and its accuracy is 91.05%\n",
      "After 900 iterations, the model's cost is 0.23928 and its accuracy is 91.3%\n",
      "After 1000 iterations, the model's cost is 0.23291 and its accuracy is 91.58%\n",
      "This network took 206.44 seconds to train.\n",
      "Testing set accuracy: 90.96%\n"
     ]
    }
   ],
   "source": [
    "# train nn, should take ~4 minutes"
   ]
  },
  {
   "cell_type": "code",
   "execution_count": 18,
   "id": "227c927c",
   "metadata": {},
   "outputs": [
    {
     "data": {
      "text/plain": [
       "Text(0, 0.5, 'Accuracy')"
      ]
     },
     "execution_count": 18,
     "metadata": {},
     "output_type": "execute_result"
    },
    {
     "data": {
      "image/png": "[encoded data removed]",
      "text/plain": [
       "<Figure size 864x432 with 2 Axes>"
      ]
     },
     "metadata": {
      "needs_background": "light"
     },
     "output_type": "display_data"
    }
   ],
   "source": [
    "# plot training cost, accuracy\n"
   ]
  },
  {
   "cell_type": "markdown",
   "id": "6be7e87c",
   "metadata": {},
   "source": [
    "# Simplifying the process with Keras"
   ]
  },
  {
   "cell_type": "markdown",
   "id": "1bfc956c",
   "metadata": {},
   "source": [
    "While the above example is useful for de-mystifying machine learning and gaining an appreciation for what's going on under the hood, it won't be what you use (or want to use) in practice. \n",
    "\n",
    "Keras (https://keras.io) is a powerful, easy-to-use machine learning API built on top of TensorFlow2 (https://www.tensorflow.org). Here, we'll use Keras to build a neural network with an identical architecture, train that model on the same data, and see how it compares to the network we wrote from scratch."
   ]
  },
  {
   "cell_type": "code",
   "execution_count": 19,
   "id": "b63a1c1f",
   "metadata": {},
   "outputs": [],
   "source": [
    "import tensorflow as tf"
   ]
  },
  {
   "cell_type": "code",
   "execution_count": 20,
   "id": "47358565",
   "metadata": {},
   "outputs": [
    {
     "name": "stdout",
     "output_type": "stream",
     "text": [
      "Metal device set to: Apple M1 Pro\n",
      "Epoch 1/50\n"
     ]
    },
    {
     "name": "stderr",
     "output_type": "stream",
     "text": [
      "2022-02-21 17:34:49.291483: I tensorflow/core/common_runtime/pluggable_device/pluggable_device_factory.cc:305] Could not identify NUMA node of platform GPU ID 0, defaulting to 0. Your kernel may not have been built with NUMA support.\n",
      "2022-02-21 17:34:49.291607: I tensorflow/core/common_runtime/pluggable_device/pluggable_device_factory.cc:271] Created TensorFlow device (/job:localhost/replica:0/task:0/device:GPU:0 with 0 MB memory) -> physical PluggableDevice (device: 0, name: METAL, pci bus id: <undefined>)\n",
      "2022-02-21 17:34:49.439471: I tensorflow/compiler/mlir/mlir_graph_optimization_pass.cc:176] None of the MLIR Optimization Passes are enabled (registered 2)\n",
      "2022-02-21 17:34:49.439630: W tensorflow/core/platform/profile_utils/cpu_utils.cc:128] Failed to get CPU frequency: 0 Hz\n"
     ]
    },
    {
     "name": "stdout",
     "output_type": "stream",
     "text": [
      " 23/200 [==>...........................] - ETA: 0s - loss: 0.6623 - acc: 0.5350"
     ]
    },
    {
     "name": "stderr",
     "output_type": "stream",
     "text": [
      "2022-02-21 17:34:49.539503: I tensorflow/core/grappler/optimizers/custom_graph_optimizer_registry.cc:112] Plugin optimizer for device_type GPU is enabled.\n"
     ]
    },
    {
     "name": "stdout",
     "output_type": "stream",
     "text": [
      "200/200 [==============================] - 1s 5ms/step - loss: 0.5244 - acc: 0.7573 - val_loss: 0.4009 - val_acc: 0.8560\n",
      "Epoch 2/50\n",
      " 12/200 [>.............................] - ETA: 0s - loss: 0.4138 - acc: 0.8499"
     ]
    },
    {
     "name": "stderr",
     "output_type": "stream",
     "text": [
      "2022-02-21 17:34:50.590954: I tensorflow/core/grappler/optimizers/custom_graph_optimizer_registry.cc:112] Plugin optimizer for device_type GPU is enabled.\n"
     ]
    },
    {
     "name": "stdout",
     "output_type": "stream",
     "text": [
      "200/200 [==============================] - 1s 5ms/step - loss: 0.3798 - acc: 0.8546 - val_loss: 0.3291 - val_acc: 0.8797\n",
      "Epoch 3/50\n",
      "200/200 [==============================] - 1s 5ms/step - loss: 0.3431 - acc: 0.8624 - val_loss: 0.3056 - val_acc: 0.8783\n",
      "Epoch 4/50\n",
      "200/200 [==============================] - 1s 5ms/step - loss: 0.3200 - acc: 0.8702 - val_loss: 0.2867 - val_acc: 0.8827\n",
      "Epoch 5/50\n",
      "200/200 [==============================] - 1s 5ms/step - loss: 0.3132 - acc: 0.8741 - val_loss: 0.2670 - val_acc: 0.9077\n",
      "Epoch 6/50\n",
      "200/200 [==============================] - 1s 5ms/step - loss: 0.2903 - acc: 0.8900 - val_loss: 0.2630 - val_acc: 0.9107\n",
      "Epoch 7/50\n",
      "200/200 [==============================] - 1s 5ms/step - loss: 0.2887 - acc: 0.8876 - val_loss: 0.2631 - val_acc: 0.9002\n",
      "Epoch 8/50\n",
      "200/200 [==============================] - 1s 5ms/step - loss: 0.2759 - acc: 0.8941 - val_loss: 0.2453 - val_acc: 0.9133\n",
      "Epoch 9/50\n",
      "200/200 [==============================] - 1s 5ms/step - loss: 0.2677 - acc: 0.8964 - val_loss: 0.2315 - val_acc: 0.9176\n",
      "Epoch 10/50\n",
      "200/200 [==============================] - 1s 5ms/step - loss: 0.2526 - acc: 0.9052 - val_loss: 0.2227 - val_acc: 0.9201\n",
      "Epoch 11/50\n",
      "200/200 [==============================] - 1s 5ms/step - loss: 0.2649 - acc: 0.9021 - val_loss: 0.2496 - val_acc: 0.9047\n",
      "Epoch 12/50\n",
      "200/200 [==============================] - 1s 5ms/step - loss: 0.2615 - acc: 0.9031 - val_loss: 0.2282 - val_acc: 0.9166\n",
      "Epoch 13/50\n",
      "200/200 [==============================] - 1s 5ms/step - loss: 0.2533 - acc: 0.9077 - val_loss: 0.2170 - val_acc: 0.9214\n",
      "Epoch 14/50\n",
      "200/200 [==============================] - 1s 6ms/step - loss: 0.2398 - acc: 0.9156 - val_loss: 0.2117 - val_acc: 0.9298\n",
      "Epoch 15/50\n",
      "200/200 [==============================] - 1s 5ms/step - loss: 0.2360 - acc: 0.9146 - val_loss: 0.2103 - val_acc: 0.9267\n",
      "Epoch 16/50\n",
      "200/200 [==============================] - 1s 5ms/step - loss: 0.2307 - acc: 0.9189 - val_loss: 0.2186 - val_acc: 0.9198\n",
      "Epoch 17/50\n",
      "200/200 [==============================] - 1s 5ms/step - loss: 0.2445 - acc: 0.9103 - val_loss: 0.2090 - val_acc: 0.9293\n",
      "Epoch 18/50\n",
      "200/200 [==============================] - 1s 5ms/step - loss: 0.2167 - acc: 0.9253 - val_loss: 0.2051 - val_acc: 0.9320\n",
      "Epoch 19/50\n",
      "200/200 [==============================] - 1s 5ms/step - loss: 0.2166 - acc: 0.9233 - val_loss: 0.2077 - val_acc: 0.9342\n",
      "Epoch 20/50\n",
      "200/200 [==============================] - 1s 5ms/step - loss: 0.2145 - acc: 0.9265 - val_loss: 0.2024 - val_acc: 0.9286\n",
      "Epoch 21/50\n",
      "200/200 [==============================] - 1s 5ms/step - loss: 0.2158 - acc: 0.9223 - val_loss: 0.1923 - val_acc: 0.9300\n",
      "Epoch 22/50\n",
      "200/200 [==============================] - 1s 5ms/step - loss: 0.2157 - acc: 0.9219 - val_loss: 0.1827 - val_acc: 0.9362\n",
      "Epoch 23/50\n",
      "200/200 [==============================] - 1s 5ms/step - loss: 0.2146 - acc: 0.9260 - val_loss: 0.1902 - val_acc: 0.9366\n",
      "Epoch 24/50\n",
      "200/200 [==============================] - 1s 5ms/step - loss: 0.2101 - acc: 0.9261 - val_loss: 0.1893 - val_acc: 0.9340\n",
      "Epoch 25/50\n",
      "200/200 [==============================] - 1s 5ms/step - loss: 0.2078 - acc: 0.9286 - val_loss: 0.1914 - val_acc: 0.9359\n",
      "Epoch 26/50\n",
      "200/200 [==============================] - 1s 5ms/step - loss: 0.2026 - acc: 0.9291 - val_loss: 0.1931 - val_acc: 0.9333\n",
      "Epoch 27/50\n",
      "200/200 [==============================] - 1s 5ms/step - loss: 0.2079 - acc: 0.9281 - val_loss: 0.1804 - val_acc: 0.9378\n",
      "Epoch 28/50\n",
      "200/200 [==============================] - 1s 5ms/step - loss: 0.2104 - acc: 0.9312 - val_loss: 0.1900 - val_acc: 0.9367\n",
      "Epoch 29/50\n",
      "200/200 [==============================] - 1s 5ms/step - loss: 0.1987 - acc: 0.9309 - val_loss: 0.1774 - val_acc: 0.9370\n",
      "Epoch 30/50\n",
      "200/200 [==============================] - 1s 5ms/step - loss: 0.1966 - acc: 0.9298 - val_loss: 0.1822 - val_acc: 0.9400\n",
      "Epoch 31/50\n",
      "200/200 [==============================] - 1s 5ms/step - loss: 0.2005 - acc: 0.9304 - val_loss: 0.1778 - val_acc: 0.9428\n",
      "Epoch 32/50\n",
      "200/200 [==============================] - 1s 5ms/step - loss: 0.1986 - acc: 0.9350 - val_loss: 0.1789 - val_acc: 0.9401\n",
      "Epoch 33/50\n",
      "200/200 [==============================] - 1s 5ms/step - loss: 0.1921 - acc: 0.9337 - val_loss: 0.1860 - val_acc: 0.9343\n",
      "Epoch 34/50\n",
      "200/200 [==============================] - 1s 5ms/step - loss: 0.1903 - acc: 0.9372 - val_loss: 0.1731 - val_acc: 0.9439\n",
      "Epoch 35/50\n",
      "200/200 [==============================] - 1s 5ms/step - loss: 0.2003 - acc: 0.9332 - val_loss: 0.1931 - val_acc: 0.9394\n",
      "Epoch 36/50\n",
      "200/200 [==============================] - 1s 5ms/step - loss: 0.2007 - acc: 0.9345 - val_loss: 0.1800 - val_acc: 0.9419\n",
      "Epoch 37/50\n",
      "200/200 [==============================] - 1s 5ms/step - loss: 0.2028 - acc: 0.9299 - val_loss: 0.2023 - val_acc: 0.9278\n",
      "Epoch 38/50\n",
      "200/200 [==============================] - 1s 5ms/step - loss: 0.1925 - acc: 0.9344 - val_loss: 0.1788 - val_acc: 0.9407\n",
      "Epoch 39/50\n",
      "200/200 [==============================] - 1s 5ms/step - loss: 0.1955 - acc: 0.9352 - val_loss: 0.1750 - val_acc: 0.9494\n",
      "Epoch 40/50\n",
      "200/200 [==============================] - 1s 5ms/step - loss: 0.2031 - acc: 0.9361 - val_loss: 0.1746 - val_acc: 0.9464\n",
      "Epoch 41/50\n",
      "200/200 [==============================] - 1s 5ms/step - loss: 0.1901 - acc: 0.9392 - val_loss: 0.1784 - val_acc: 0.9360\n",
      "Epoch 42/50\n",
      "200/200 [==============================] - 1s 5ms/step - loss: 0.1968 - acc: 0.9286 - val_loss: 0.1858 - val_acc: 0.9374\n",
      "Epoch 43/50\n",
      "200/200 [==============================] - 1s 5ms/step - loss: 0.1866 - acc: 0.9390 - val_loss: 0.1853 - val_acc: 0.9358\n",
      "Epoch 44/50\n",
      "200/200 [==============================] - 1s 5ms/step - loss: 0.1921 - acc: 0.9321 - val_loss: 0.1747 - val_acc: 0.9400\n",
      "Epoch 45/50\n",
      "200/200 [==============================] - 1s 5ms/step - loss: 0.1870 - acc: 0.9405 - val_loss: 0.1627 - val_acc: 0.9506\n",
      "Epoch 46/50\n",
      "200/200 [==============================] - 1s 5ms/step - loss: 0.1815 - acc: 0.9421 - val_loss: 0.1794 - val_acc: 0.9403\n",
      "Epoch 47/50\n",
      "200/200 [==============================] - 1s 5ms/step - loss: 0.1840 - acc: 0.9394 - val_loss: 0.1651 - val_acc: 0.9462\n",
      "Epoch 48/50\n",
      "200/200 [==============================] - 1s 5ms/step - loss: 0.1822 - acc: 0.9407 - val_loss: 0.1715 - val_acc: 0.9457\n",
      "Epoch 49/50\n",
      "200/200 [==============================] - 1s 5ms/step - loss: 0.1880 - acc: 0.9378 - val_loss: 0.1833 - val_acc: 0.9418\n",
      "Epoch 50/50\n",
      "200/200 [==============================] - 1s 5ms/step - loss: 0.1881 - acc: 0.9383 - val_loss: 0.1784 - val_acc: 0.9411\n"
     ]
    }
   ],
   "source": [
    "# define and train a keras model\n",
    "\n",
    "input_layer = tf.keras.layers.Input((training_data.T.shape[1],))\n",
    "hidden_layer = tf.keras.layers.Dense(4, activation='tanh')(input_layer)\n",
    "output_layer = tf.keras.layers.Dense(1, activation='sigmoid')(hidden_layer)\n",
    "\n",
    "keras_model = tf.keras.Model(inputs=input_layer, outputs=output_layer)\n",
    "keras_model.compile(loss='binary_crossentropy', optimizer=tf.keras.optimizers.Adam(1e-3), metrics=['acc'])\n",
    "\n",
    "history = keras_model.fit(training_data.T, training_labels.T, verbose=1, validation_split=0.15, \n",
    "                          epochs=50, batch_size=256)"
   ]
  },
  {
   "cell_type": "code",
   "execution_count": 21,
   "id": "e1d2f11e",
   "metadata": {},
   "outputs": [
    {
     "data": {
      "image/png": "[encoded data removed]",
      "text/plain": [
       "<Figure size 576x288 with 2 Axes>"
      ]
     },
     "metadata": {
      "needs_background": "light"
     },
     "output_type": "display_data"
    }
   ],
   "source": [
    "# how does the model we instantiated with Keras compare to the one we made from scratch?\n",
    "\n",
    "fig, ax = plt.subplots(1,2, figsize=(8,4), constrained_layout=True)\n",
    "\n",
    "ax[0].plot(cost_list, label='NN From Scratch')\n",
    "ax[0].plot(history.history['loss'], label='Keras NN')\n",
    "ax[0].set_xlabel('Epoch', fontsize='x-large')\n",
    "ax[0].set_ylabel('Cost', fontsize='x-large')\n",
    "ax[0].legend(loc='upper right', fontsize='large')\n",
    "\n",
    "ax[1].plot(0.01*np.array(accuracy_list), label='NN from Scratch')\n",
    "ax[1].plot(history.history['acc'], label='Keras NN')\n",
    "ax[1].set_xlabel('Epoch', fontsize='x-large')\n",
    "ax[1].set_ylabel('Accuracy', fontsize='x-large')\n",
    "ax[1].legend(loc='lower right', fontsize='large');"
   ]
  },
  {
   "cell_type": "code",
   "execution_count": null,
   "id": "069c26b1",
   "metadata": {},
   "outputs": [],
   "source": []
  }
 ],
 "metadata": {
  "kernelspec": {
   "display_name": "Python 3.9 (tensorflow)",
   "language": "python",
   "name": "tensorflow"
  },
  "language_info": {
   "codemirror_mode": {
    "name": "ipython",
    "version": 3
   },
   "file_extension": ".py",
   "mimetype": "text/x-python",
   "name": "python",
   "nbconvert_exporter": "python",
   "pygments_lexer": "ipython3",
   "version": "3.9.10"
  }
 },
 "nbformat": 4,
 "nbformat_minor": 5
}
